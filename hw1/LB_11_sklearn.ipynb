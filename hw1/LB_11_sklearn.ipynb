{
 "cells": [
  {
   "cell_type": "code",
   "execution_count": 13,
   "id": "354ea240",
   "metadata": {},
   "outputs": [],
   "source": [
    "import sklearn\n",
    "import numpy as np\n",
    "from sklearn.metrics import precision_recall_curve\n",
    "from sklearn.linear_model import LogisticRegression\n",
    "import pandas as pd\n",
    "from sklearn.model_selection import train_test_split, cross_val_score\n",
    "from sklearn.metrics import roc_curve, auc \n",
    "import matplotlib.pyplot as plt"
   ]
  },
  {
   "cell_type": "code",
   "execution_count": 14,
   "id": "796c2076",
   "metadata": {},
   "outputs": [
    {
     "name": "stdout",
     "output_type": "stream",
     "text": [
      "           x1         x2    y\n",
      "0   44.668262  66.450086  0.0\n",
      "1   67.946855  46.678574  0.0\n",
      "2   56.253817  39.261473  0.0\n",
      "3   93.114389  38.800670  0.0\n",
      "4   34.524514  60.396342  0.0\n",
      "..        ...        ...  ...\n",
      "75  97.771599  86.727822  1.0\n",
      "76  75.477702  90.424539  1.0\n",
      "77  72.346494  96.227593  1.0\n",
      "78  78.635424  96.647427  1.0\n",
      "79  94.094331  77.159105  1.0\n",
      "\n",
      "[80 rows x 3 columns]\n"
     ]
    }
   ],
   "source": [
    "fname=r'D:\\about_me\\大二上\\机器学习\\第一次作业\\11_train.csv'\n",
    "\n",
    "f=open(fname,encoding='UTF-8')\n",
    "\n",
    "names=['x1','x2','y']\n",
    "data=pd.read_csv(f,names=names)\n",
    "print(data)"
   ]
  },
  {
   "cell_type": "code",
   "execution_count": 15,
   "id": "db29e646",
   "metadata": {},
   "outputs": [],
   "source": [
    "X=data.iloc[:,0:2]\n",
    "y=data.iloc[:,2]"
   ]
  },
  {
   "cell_type": "code",
   "execution_count": 16,
   "id": "eae8e9bc",
   "metadata": {},
   "outputs": [
    {
     "data": {
      "text/plain": [
       "LogisticRegression()"
      ]
     },
     "execution_count": 16,
     "metadata": {},
     "output_type": "execute_result"
    }
   ],
   "source": [
    "classifer = LogisticRegression()  \n",
    "classifer.fit(X,y)  #模型训练"
   ]
  },
  {
   "cell_type": "code",
   "execution_count": 17,
   "id": "7b633cff",
   "metadata": {},
   "outputs": [
    {
     "name": "stdout",
     "output_type": "stream",
     "text": [
      "准确率： 0.8875 [1.    0.875 0.875 0.875 0.75  0.875 1.    0.875 0.875 0.875]\n",
      "精确率： 0.9133333333333334 [1.         0.83333333 0.83333333 0.83333333 0.8        1.\n",
      " 1.         1.         1.         0.83333333]\n",
      "召回率： 0.9200000000000002 [1.  1.  1.  1.  0.8 0.8 1.  0.8 0.8 1. ]\n",
      "综合评价指标： 0.9103030303030304 [1.         0.90909091 0.90909091 0.90909091 0.8        0.88888889\n",
      " 1.         0.88888889 0.88888889 0.90909091]\n"
     ]
    }
   ],
   "source": [
    "scores = cross_val_score(classifer,X,y,cv=10) \n",
    "print ('准确率：',np.mean(scores),scores)  \n",
    "precisions = cross_val_score(classifer, X, y, cv=10, scoring='precision')  #交叉验证算查准率和查全率\n",
    "print('精确率：', np.mean(precisions), precisions)  \n",
    "recalls = cross_val_score(classifer, X, y, cv=10, scoring='recall')  \n",
    "print('召回率：', np.mean(recalls), recalls) \n",
    "f1s = cross_val_score(classifer, X, y, cv=10, scoring='f1')  \n",
    "print('综合评价指标：', np.mean(f1s), f1s)"
   ]
  },
  {
   "cell_type": "code",
   "execution_count": 18,
   "id": "a72061a2",
   "metadata": {
    "scrolled": false
   },
   "outputs": [
    {
     "data": {
      "image/png": "[encoded data removed]",
      "text/plain": [
       "<Figure size 432x288 with 1 Axes>"
      ]
     },
     "metadata": {
      "needs_background": "light"
     },
     "output_type": "display_data"
    },
    {
     "data": {
      "image/png": "[encoded data removed]",
      "text/plain": [
       "<Figure size 432x288 with 1 Axes>"
      ]
     },
     "metadata": {
      "needs_background": "light"
     },
     "output_type": "display_data"
    }
   ],
   "source": [
    "predictions=classifer.predict_proba(X)\n",
    "precision, recall, _ = precision_recall_curve(y, predictions[:, 1])\n",
    "plt.step(recall, precision, color='b', alpha=0.2,\n",
    "         where='post')\n",
    "plt.fill_between(recall, precision, step='post', alpha=0.2,\n",
    "                 color='b')\n",
    " \n",
    "plt.xlabel('Recall')\n",
    "plt.ylabel('Precision')\n",
    "plt.title('Precision-Recall Curve')\n",
    "plt.show()\n",
    "false_positive_rate, recall, thresholds = roc_curve(y, predictions[:, 1],drop_intermediate=False)  \n",
    "roc_auc = auc(false_positive_rate, recall)    \n",
    "plt.plot(false_positive_rate, recall, 'b', label='AUC = %0.2f' % roc_auc)\n",
    "plt.legend(loc='lower right')  \n",
    "plt.plot([0, 1], [0, 1], 'r--') \n",
    "plt.xlim([-0.1, 1.1])  \n",
    "plt.ylim([-0.1, 1.1])  \n",
    "plt.title('ROC Curve')\n",
    "plt.ylabel('Recall')  \n",
    "plt.xlabel('Fall-out')  \n",
    "plt.show()\n",
    "#plt.ylim([0.0, 1.05])\n",
    "#plt.xlim([0.0, 1.0])"
   ]
  }
 ],
 "metadata": {
  "interpreter": {
   "hash": "07efdcd4b820c98a756949507a4d29d7862823915ec7477944641bea022f4f62"
  },
  "kernelspec": {
   "display_name": "Python 3 (ipykernel)",
   "language": "python",
   "name": "python3"
  },
  "language_info": {
   "codemirror_mode": {
    "name": "ipython",
    "version": 3
   },
   "file_extension": ".py",
   "mimetype": "text/x-python",
   "name": "python",
   "nbconvert_exporter": "python",
   "pygments_lexer": "ipython3",
   "version": "3.8.12"
  }
 },
 "nbformat": 4,
 "nbformat_minor": 5
}

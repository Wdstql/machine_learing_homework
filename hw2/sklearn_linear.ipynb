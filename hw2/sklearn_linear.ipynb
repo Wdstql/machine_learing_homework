{
 "cells": [
  {
   "cell_type": "code",
   "execution_count": 5,
   "metadata": {},
   "outputs": [],
   "source": [
    "import numpy as np\n",
    "import pandas as pd\n",
    "data=pd.read_csv('11_train.csv')\n",
    "X=data.iloc[:,1:4].values\n",
    "Y=data.iloc[:,4].values"
   ]
  },
  {
   "cell_type": "code",
   "execution_count": 6,
   "metadata": {},
   "outputs": [],
   "source": [
    "\n",
    "from sklearn.preprocessing import StandardScaler\n",
    "sc_x=StandardScaler()\n",
    "X=sc_x.fit_transform(X)\n"
   ]
  },
  {
   "cell_type": "code",
   "execution_count": 7,
   "metadata": {},
   "outputs": [
    {
     "name": "stdout",
     "output_type": "stream",
     "text": [
      "MSE by hand: 3.391632225406405\n",
      "MSE by hand: 3.1761711890566677\n",
      "MSE by hand: 2.5932617900637283\n",
      "MSE by hand: 6.51489241613988\n",
      "MSE by hand: 2.2345831372382983\n",
      "MSE by hand: 1.58031572446065\n",
      "MSE by hand: 6.602605928383482\n",
      "MSE by hand: 2.3900725570060657\n",
      "MSE by hand: 3.7583668800158225\n",
      "MSE by hand: 2.1888554047196234\n",
      "MSE by hand: 4.965910160376271\n",
      "MSE by hand: 1.7564285613469965\n",
      "MSE by hand: 2.819883173439407\n",
      "MSE by hand: 1.4279087166492286\n",
      "MSE by hand: 2.0573480956032526\n",
      "MSE by hand: 4.297639333154315\n",
      "MSE by hand: 6.8390506381829\n",
      "MSE by hand: 2.808203221171116\n",
      "MSE by hand: 2.891648662011934\n",
      "MSE by hand: 3.4861778869527775\n",
      "MSE by hand: 6.77078748395501\n",
      "MSE by hand: 3.7691421378830845\n",
      "MSE by hand: 2.56160520962843\n",
      "MSE by hand: 3.0237569874573698\n",
      "MSE by hand: 3.026586262934259\n",
      "MSE by hand: 4.770721822272586\n",
      "MSE by hand: 2.4601137953933243\n",
      "MSE by hand: 1.6464806556083156\n",
      "MSE by hand: 3.9315153490087624\n",
      "MSE by hand: 2.4675865094439215\n",
      "MSE by hand: 3.685754189751291\n",
      "MSE by hand: 3.149855219808587\n",
      "MSE by hand: 1.4145892094666896\n",
      "MSE by hand: 2.319845202600762\n",
      "MSE by hand: 6.825786685721536\n",
      "MSE by hand: 1.7684932284793211\n",
      "MSE by hand: 4.173725160882753\n",
      "MSE by hand: 1.780300719954487\n",
      "MSE by hand: 4.596652203616478\n",
      "MSE by hand: 4.297453708859914\n",
      "MSE by hand: 4.681174600279743\n",
      "MSE by hand: 2.1825476154571497\n",
      "MSE by hand: 2.2385215943815453\n",
      "MSE by hand: 6.382077185576445\n",
      "MSE by hand: 2.5639286549234814\n",
      "MSE by hand: 2.975740307226928\n",
      "MSE by hand: 4.153532739148274\n",
      "MSE by hand: 2.3143389063851822\n",
      "MSE by hand: 2.8291269491464415\n",
      "MSE by hand: 3.6677430429065754\n",
      "MSE by hand: 3.3331612999590603\n",
      "MSE by hand: 2.5687502085306506\n",
      "MSE by hand: 6.638580011484342\n",
      "MSE by hand: 3.172661455150714\n",
      "MSE by hand: 1.8316818539882678\n",
      "MSE by hand: 3.1669361581063082\n",
      "MSE by hand: 3.5232628175456657\n",
      "MSE by hand: 2.22932075654834\n",
      "MSE by hand: 1.97488274935084\n",
      "MSE by hand: 5.728953813040492\n",
      "MSE by hand: 2.0446556978674093\n",
      "MSE by hand: 2.6596280338358484\n",
      "MSE by hand: 7.866502307634033\n",
      "MSE by hand: 3.6116806579922116\n",
      "MSE by hand: 2.711097615354095\n",
      "MSE by hand: 2.361121831698452\n",
      "MSE by hand: 2.9244012403561968\n",
      "MSE by hand: 2.889066181505973\n",
      "MSE by hand: 4.194215685048485\n",
      "MSE by hand: 3.8123326799912984\n",
      "MSE by hand: 3.6943564648575316\n",
      "MSE by hand: 2.7548640354303306\n",
      "MSE by hand: 3.3357081706326586\n",
      "MSE by hand: 3.2660963474940674\n",
      "MSE by hand: 2.756229351918143\n",
      "MSE by hand: 2.475888996179135\n",
      "MSE by hand: 6.8497957038271595\n",
      "MSE by hand: 3.723684320338174\n",
      "MSE by hand: 2.1547889809421275\n",
      "MSE by hand: 3.013241245624962\n",
      "MSE by hand: 2.0411707671940924\n",
      "MSE by hand: 2.3374608736400324\n",
      "MSE by hand: 6.753469196603843\n",
      "MSE by hand: 2.5470748921086765\n",
      "MSE by hand: 2.872064519630398\n",
      "MSE by hand: 6.055322543733682\n",
      "MSE by hand: 2.7092063245762246\n",
      "MSE by hand: 2.4871936918982684\n",
      "MSE by hand: 3.1801863142013023\n",
      "MSE by hand: 2.7848187258504664\n",
      "MSE by hand: 3.127965705943135\n",
      "MSE by hand: 4.0065234449035945\n",
      "MSE by hand: 1.9149855627705017\n",
      "MSE by hand: 2.8898135310220923\n",
      "MSE by hand: 7.440881688209921\n",
      "MSE by hand: 2.338684750094591\n",
      "MSE by hand: 1.9739979009580348\n",
      "MSE by hand: 2.324908765315295\n",
      "MSE by hand: 2.5411800339975756\n",
      "MSE by hand: 5.6455335380327405\n",
      "MSE finally: 3.4145042848245475\n"
     ]
    }
   ],
   "source": [
    "from sklearn.linear_model import LinearRegression\n",
    "from sklearn.model_selection import RepeatedKFold\n",
    "LR=LinearRegression()\n",
    "KF=RepeatedKFold(n_splits=10,n_repeats=10,random_state=4)\n",
    "sum=0\n",
    "for train_data,test_data in KF.split(X):\n",
    "    X_train=X[train_data]\n",
    "    Y_train=Y[train_data]\n",
    "    X_test=X[test_data]\n",
    "    Y_test=Y[test_data]\n",
    "    model=LR.fit(X_train,Y_train) \n",
    "    pre=LR.predict(X_test)\n",
    "    sum_mean =0\n",
    "    for i in range(len(Y_test)):\n",
    "        sum_mean += (pre[i] - Y_test[i]) ** 2\n",
    "    sum_erro = sum_mean /len(Y_test)  # 测试级的数量\n",
    "    # calculate RMSE\n",
    "    sum+=sum_erro\n",
    "    print (\"MSE by hand:\", sum_erro)\n",
    "print (\"MSE finally:\", sum/100.0)\n",
    "#模型训练"
   ]
  },
  {
   "cell_type": "code",
   "execution_count": 8,
   "metadata": {},
   "outputs": [
    {
     "data": {
      "text/plain": [
       "\"\\nprint('模型参数:')\\nprint(model)\\n# 训练后模型截距\\nprint('模型截距:')\\nprint(LR.intercept_)\\n# 训练后模型权重（特征个数无变化）\\nprint('参数权重:')\\nprint (LR.coef_)\\n#打印模型训练信息\\n\""
      ]
     },
     "execution_count": 8,
     "metadata": {},
     "output_type": "execute_result"
    }
   ],
   "source": [
    "\n",
    "'''\n",
    "print('模型参数:')\n",
    "print(model)\n",
    "# 训练后模型截距\n",
    "print('模型截距:')\n",
    "print(LR.intercept_)\n",
    "# 训练后模型权重（特征个数无变化）\n",
    "print('参数权重:')\n",
    "print (LR.coef_)\n",
    "#打印模型训练信息\n",
    "'''"
   ]
  }
 ],
 "metadata": {
  "interpreter": {
   "hash": "07efdcd4b820c98a756949507a4d29d7862823915ec7477944641bea022f4f62"
  },
  "kernelspec": {
   "display_name": "Python 3.8.12 64-bit ('base': conda)",
   "name": "python3"
  },
  "language_info": {
   "codemirror_mode": {
    "name": "ipython",
    "version": 3
   },
   "file_extension": ".py",
   "mimetype": "text/x-python",
   "name": "python",
   "nbconvert_exporter": "python",
   "pygments_lexer": "ipython3",
   "version": "3.8.12"
  },
  "orig_nbformat": 4
 },
 "nbformat": 4,
 "nbformat_minor": 2
}

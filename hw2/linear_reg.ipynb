{
 "cells": [
  {
   "cell_type": "code",
   "execution_count": 21,
   "metadata": {},
   "outputs": [],
   "source": [
    "import numpy as np\n",
    "import pandas as pd\n",
    "import matplotlib.pyplot as plt\n",
    "from sklearn.model_selection import KFold,RepeatedKFold"
   ]
  },
  {
   "cell_type": "code",
   "execution_count": 22,
   "metadata": {},
   "outputs": [],
   "source": [
    "def linear_reg(x, y, l=0.1, times=1000):\n",
    "    w = np.mat(np.zeros((4, 1)))\n",
    "    m = len(x)\n",
    "    J_old=0\n",
    "    J_new=0\n",
    "    for i in range(times):\n",
    "        a=l*(1/m)*x.T*(x*w - y)\n",
    "        w = w - a\n",
    "        J_new=(1/(2*m))*(x*w-y).T*(x*w-y)\n",
    "        if(np.abs(J_new-J_old)<0.0001):\n",
    "            break\n",
    "        J_old=J_new\n",
    "    #print(a)\n",
    "    return w\n",
    "    "
   ]
  },
  {
   "cell_type": "code",
   "execution_count": 23,
   "metadata": {},
   "outputs": [],
   "source": [
    "def feature_scaling(x):\n",
    "    x_norm=np.mat(x)\n",
    "    mu=np.mean(x_norm,axis=0)\n",
    "    std=np.std(x_norm,axis=0,ddof=1)#无偏\n",
    "    print(mu,std)\n",
    "    x_norm=(x_norm-mu)/std\n",
    "    return x_norm.A"
   ]
  },
  {
   "cell_type": "code",
   "execution_count": 24,
   "metadata": {},
   "outputs": [
    {
     "name": "stdout",
     "output_type": "stream",
     "text": [
      "[[146.09794368  23.25078835  30.29808736]] [[85.20668495 14.69084725 21.52130663]]\n"
     ]
    }
   ],
   "source": [
    "data = pd.read_csv('11_train.csv')\n",
    "m=len(data)\n",
    "x = np.array(data.iloc[:, 1:4])\n",
    "y =np.array(data.iloc[:,4])\n",
    "data = np.array(data)\n",
    "#feature scaling\n",
    "x=feature_scaling(x)\n",
    "x=np.insert(x,0,values=np.ones(m),axis=1)\n",
    "#print(x,y)"
   ]
  },
  {
   "cell_type": "code",
   "execution_count": 25,
   "metadata": {},
   "outputs": [
    {
     "name": "stdout",
     "output_type": "stream",
     "text": [
      "当sigma=0,训练误差为[[3.20267786]],测试误差为[[3.42664532]]\n"
     ]
    }
   ],
   "source": [
    "kf = RepeatedKFold(n_splits=10, n_repeats=10, random_state=0)\n",
    "sum1=0\n",
    "sum2=0\n",
    "for train_data, test_data in kf.split(data):\n",
    "    x_train=np.mat(x[train_data])\n",
    "    y_train=np.mat(y[train_data]).T\n",
    "    x_test=np.mat(x[test_data])\n",
    "    y_test=np.mat(y[test_data]).T\n",
    "    #print(x_train)\n",
    "    #print(y_train)\n",
    "    w = linear_reg(x_train, y_train)\n",
    "    #print(w)\n",
    "    a=x_test*w-y_test\n",
    "    b=x_train*w-y_train\n",
    "    J1=(a.T*a)/len(x_test)\n",
    "    J2=(b.T*b)/len(x_train)\n",
    "    sum1=sum1+J1\n",
    "    sum2=sum2+J2\n",
    "final_cost1=sum1/100.0\n",
    "final_cost2=sum2/100.0\n",
    "print('当sigma={0},训练误差为{1},测试误差为{2}'.format(0,final_cost2,final_cost1))"
   ]
  }
 ],
 "metadata": {
  "interpreter": {
   "hash": "07efdcd4b820c98a756949507a4d29d7862823915ec7477944641bea022f4f62"
  },
  "kernelspec": {
   "display_name": "Python 3.8.12 64-bit ('base': conda)",
   "name": "python3"
  },
  "language_info": {
   "codemirror_mode": {
    "name": "ipython",
    "version": 3
   },
   "file_extension": ".py",
   "mimetype": "text/x-python",
   "name": "python",
   "nbconvert_exporter": "python",
   "pygments_lexer": "ipython3",
   "version": "3.8.12"
  },
  "orig_nbformat": 4
 },
 "nbformat": 4,
 "nbformat_minor": 2
}
